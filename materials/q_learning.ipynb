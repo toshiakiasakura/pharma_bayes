{
 "cells": [
  {
   "cell_type": "markdown",
   "metadata": {},
   "source": [
    "# Q-learning "
   ]
  },
  {
   "cell_type": "markdown",
   "metadata": {},
   "source": [
    "one training method for Q-learning in reinforcement learning.  \n",
    "\n",
    "Q-learning algorithm is as follows,\n",
    "1. initialize Q-table \n",
    "2. Choose an action \n",
    "3. perfom action\n",
    "4. measure algorithm\n",
    "5. update Q-table\n",
    "  \n",
    "Q-table is composed of state-space and action-space.   \n",
    "but if Q-table is updated at first, Q-table often choose same behaviors, \n",
    "so that we employ epsilon greedy strategy.   \n",
    "we set epsilon (100% at first ), and at each step ,decrease episilon (to 0.0005,0.05%).  \n",
    "this epslon means the probability of not using Q-table. if not use Q-table, we randomly choose  actions.  \n",
    "the expoloration-expoloitation trade-off explains the trade off between Q-table updating and the getting good scores.\n"
   ]
  },
  {
   "cell_type": "markdown",
   "metadata": {},
   "source": [
    "the equation for update is \n",
    "\\begin{equation}\n",
    "    Q(s_t,a_t) = (1-\\alpha)Q(s_t,a_t) + \\alpha(r + \\gamma max_aQ(s_{t+1},a))\n",
    "\\end{equation}\n",
    "$ \\alpha $ is learning rate, r is reward, $\\gamma $ is discounted value for future reward.  "
   ]
  },
  {
   "cell_type": "markdown",
   "metadata": {},
   "source": [
    "## Example, implementation of Q-learning \n",
    "<img src=\"q_learning_example.png\" />\n",
    "The robot can move up,right,down or left. \n",
    "Rewords are as followed below  \n",
    "* power :+1\n",
    "* bomb : -100\n",
    "* end : +100 \n",
    "* each time step : -1\n",
    "* go outside of field : -100 and end. \n",
    "\n",
    "field size is 5×6 , but prepare 7×8 size of field. index is row is 0 to 6, column is 0 to 7   \n",
    "state-space size is 5×6×6 ( start,blank,power,mined,end, out)"
   ]
  },
  {
   "cell_type": "code",
   "execution_count": 1,
   "metadata": {},
   "outputs": [],
   "source": [
    "import pandas as pd\n",
    "import numpy as np \n",
    "import random\n",
    "from IPython.display import clear_output\n",
    "import copy\n",
    "import time \n",
    "import matplotlib.pyplot as plt\n",
    "%matplotlib inline "
   ]
  },
  {
   "cell_type": "code",
   "execution_count": 2,
   "metadata": {},
   "outputs": [],
   "source": [
    "import seaborn as sns\n",
    "import matplotlib.pyplot as plt\n",
    "%matplotlib inline\n",
    "sns.set(context=\"paper\" , style =\"whitegrid\",rc={\"figure.facecolor\":\"white\"})"
   ]
  },
  {
   "cell_type": "markdown",
   "metadata": {},
   "source": [
    "## create field "
   ]
  },
  {
   "cell_type": "code",
   "execution_count": 3,
   "metadata": {},
   "outputs": [],
   "source": [
    "# environment \n",
    "class env():\n",
    "    def reset(self):\n",
    "        power = [[1,4],[3,3],[3,6],[5,2]]\n",
    "        bomb = [[2,2],[2,5],[4,1],[4,4]]\n",
    "        end = [[5,5]]\n",
    "        out = [[0,i] for  i in range(7)] + [[i,0] for i in range(1,6)] +  \\\n",
    "            [[i,7] for i in range(1,6)] + [[6,i] for i in range(7)]\n",
    "\n",
    "        enviro = np.zeros((7,8))\n",
    "        for p in power:\n",
    "            enviro[p[0],p[1]] = 1\n",
    "        for p in bomb:\n",
    "            enviro[p[0],p[1]] = -100\n",
    "        for p in end:\n",
    "            enviro[p[0],p[1]] = 100\n",
    "        for p in out:\n",
    "            enviro[p[0],p[1]] = -1000\n",
    "        self.enviro = enviro \n",
    "        \n",
    "        self.epochs = 0\n",
    "        self.tot_r = 0\n",
    "        self.reward = 0\n",
    "        self.state = [1,1]\n",
    "        self.new_state = [1,1]\n",
    "        self.done = False\n",
    "        \n",
    "    def action(self,act = 0):\n",
    "        self.state = copy.deepcopy(self.new_state)\n",
    "        if act == 0: # north\n",
    "            self.new_state[0] += 1 \n",
    "        if act == 1:  # east \n",
    "            self.new_state[1] += 1\n",
    "        if act == 2:\n",
    "            self.new_state[0] += -1\n",
    "        if act == 3: \n",
    "            self.new_state[1] += -1 \n",
    "            \n",
    "        self.reward = self.enviro[self.new_state[0],self.new_state[1]]\n",
    "        if self.new_state[0] == 5 and self.new_state[1] == 5:\n",
    "            self.done = True\n",
    "        if self.reward ==0 :\n",
    "            self.reward = -1\n",
    "        \n",
    "        \n",
    "    def action_rand(self):\n",
    "        rand = random.uniform(0,1)\n",
    "        for  i in range(n_act):\n",
    "            if 1/n_act*i < rand and  rand < 1/n_act*(i+1):\n",
    "                return(i)\n",
    "            \n",
    "    def run(self,plot=False):\n",
    "        if plot:\n",
    "            plt.xlim(0,8)\n",
    "            plt.ylim(0,7)\n",
    "        while not self.done:\n",
    "            if random.uniform(0, 1) < epsilon:\n",
    "                # Check the action space\n",
    "                act = self.action_rand()\n",
    "            else:\n",
    "                # Check the learned values\n",
    "                act = np.argmax(q_table[self.new_state[0],self.new_state[1]])\n",
    "\n",
    "            self.action(act)\n",
    "            old_value = q_table[self.state[0],self.state[1], act]\n",
    "            next_max = np.max(q_table[self.new_state[0],self.new_state[1]])\n",
    "\n",
    "            # Update the new value\n",
    "            new_value = (1 - alpha) * old_value + alpha * \\\n",
    "                (self.reward + gamma * next_max)\n",
    "            q_table[self.state[0],self.state[1],act] = new_value\n",
    "            self.tot_r += self.reward\n",
    "            \n",
    "            self.epochs += 1\n",
    "            \n",
    "            if plot:\n",
    "                plt.plot([self.state[1],self.new_state[1]],[self.state[0],self.new_state[0]])\n",
    "            \n",
    "            if self.epochs > 100:\n",
    "                self.tot_r += -100\n",
    "                break\n",
    "            if self.reward == -1000:\n",
    "                break\n",
    "            "
   ]
  },
  {
   "cell_type": "code",
   "execution_count": 4,
   "metadata": {},
   "outputs": [],
   "source": [
    "q_table = np.zeros((7,8,4))\n",
    "\n",
    "# Hyperparameters\n",
    "alpha = 0.1\n",
    "gamma = 0.6\n",
    "\n",
    "all_epochs = []\n",
    "all_tot_r = []\n",
    "\n",
    "n_act = 4 \n"
   ]
  },
  {
   "cell_type": "code",
   "execution_count": 7,
   "metadata": {},
   "outputs": [
    {
     "data": {
      "text/plain": [
       "[<matplotlib.lines.Line2D at 0x1a1e99c3c8>]"
      ]
     },
     "execution_count": 7,
     "metadata": {},
     "output_type": "execute_result"
    },
    {
     "data": {
      "image/png": "[encoded data removed]",
      "text/plain": [
       "<Figure size 432x288 with 1 Axes>"
      ]
     },
     "metadata": {},
     "output_type": "display_data"
    }
   ],
   "source": [
    "n_times = 1000\n",
    "epsilon = 0.9\n",
    "for i in range(n_times):\n",
    "    plot = False\n",
    "    epsilon += - 0.8999/n_times\n",
    "    if i % 1000 ==0 :\n",
    "        plot = True\n",
    "    clear_output(wait=True)\n",
    "    field = env()\n",
    "    field.reset()\n",
    "    field.run(plot=plot)\n",
    "    if i% 1000 == 0:\n",
    "        print(field.tot_r)\n",
    "        print(field.epochs)\n",
    "        plt.show()\n",
    "        #time.sleep(1)\n",
    "    all_tot_r.append(field.tot_r)\n",
    "    all_epochs.append(field.epochs)\n",
    "plt.plot(all_tot_r)"
   ]
  },
  {
   "cell_type": "code",
   "execution_count": 9,
   "metadata": {},
   "outputs": [
    {
     "data": {
      "text/plain": [
       "[<matplotlib.lines.Line2D at 0x1a1eec2c88>]"
      ]
     },
     "execution_count": 9,
     "metadata": {},
     "output_type": "execute_result"
    },
    {
     "data": {
      "image/png": "[encoded data removed]",
      "text/plain": [
       "<Figure size 432x288 with 1 Axes>"
      ]
     },
     "metadata": {},
     "output_type": "display_data"
    }
   ],
   "source": [
    "\n",
    "plt.plot(all_tot_r[8000:])"
   ]
  },
  {
   "cell_type": "code",
   "execution_count": 10,
   "metadata": {
    "scrolled": true
   },
   "outputs": [
    {
     "data": {
      "text/plain": [
       "array([[ 0.00000000e+00,  0.00000000e+00,  0.00000000e+00,\n",
       "         0.00000000e+00],\n",
       "       [ 8.01344000e-01,  1.08934400e+00, -1.00000000e+03,\n",
       "        -1.00000000e+03],\n",
       "       [-9.59977600e+01,  3.48224000e+00, -1.00000000e+03,\n",
       "        -3.46393600e-01],\n",
       "       [ 6.67040000e+00,  7.47040000e+00, -1.00000000e+03,\n",
       "         1.08934400e+00],\n",
       "       [ 1.07840000e+01,  3.48224000e+00, -1.00000000e+03,\n",
       "         3.48224000e+00],\n",
       "       [-7.93600000e+01,  6.19040000e+00, -1.00000000e+03,\n",
       "         7.47040000e+00],\n",
       "       [ 1.19840000e+01, -9.99999990e+02, -9.99999889e+02,\n",
       "         3.48223921e+00],\n",
       "       [ 0.00000000e+00,  0.00000000e+00,  0.00000000e+00,\n",
       "         0.00000000e+00]])"
      ]
     },
     "execution_count": 10,
     "metadata": {},
     "output_type": "execute_result"
    }
   ],
   "source": [
    "q_table[1]"
   ]
  },
  {
   "cell_type": "code",
   "execution_count": 11,
   "metadata": {},
   "outputs": [
    {
     "data": {
      "image/png": "[encoded data removed]",
      "text/plain": [
       "<Figure size 432x288 with 1 Axes>"
      ]
     },
     "metadata": {},
     "output_type": "display_data"
    }
   ],
   "source": [
    "field = env()\n",
    "field.reset()\n",
    "field.run(plot=True)"
   ]
  },
  {
   "cell_type": "code",
   "execution_count": null,
   "metadata": {},
   "outputs": [],
   "source": []
  }
 ],
 "metadata": {
  "kernelspec": {
   "display_name": "Python 3",
   "language": "python",
   "name": "python3"
  },
  "language_info": {
   "codemirror_mode": {
    "name": "ipython",
    "version": 3
   },
   "file_extension": ".py",
   "mimetype": "text/x-python",
   "name": "python",
   "nbconvert_exporter": "python",
   "pygments_lexer": "ipython3",
   "version": "3.7.2"
  },
  "toc": {
   "base_numbering": 1,
   "nav_menu": {},
   "number_sections": false,
   "sideBar": true,
   "skip_h1_title": false,
   "title_cell": "Table of Contents",
   "title_sidebar": "Contents",
   "toc_cell": false,
   "toc_position": {},
   "toc_section_display": true,
   "toc_window_display": false
  },
  "varInspector": {
   "cols": {
    "lenName": 16,
    "lenType": 16,
    "lenVar": 40
   },
   "kernels_config": {
    "python": {
     "delete_cmd_postfix": "",
     "delete_cmd_prefix": "del ",
     "library": "var_list.py",
     "varRefreshCmd": "print(var_dic_list())"
    },
    "r": {
     "delete_cmd_postfix": ") ",
     "delete_cmd_prefix": "rm(",
     "library": "var_list.r",
     "varRefreshCmd": "cat(var_dic_list()) "
    }
   },
   "types_to_exclude": [
    "module",
    "function",
    "builtin_function_or_method",
    "instance",
    "_Feature"
   ],
   "window_display": false
  }
 },
 "nbformat": 4,
 "nbformat_minor": 2
}
